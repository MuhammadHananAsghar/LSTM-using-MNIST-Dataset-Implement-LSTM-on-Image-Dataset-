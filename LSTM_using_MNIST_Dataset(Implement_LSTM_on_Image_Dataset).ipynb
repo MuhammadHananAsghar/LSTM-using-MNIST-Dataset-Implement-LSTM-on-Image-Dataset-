{
  "nbformat": 4,
  "nbformat_minor": 0,
  "metadata": {
    "colab": {
      "name": "LSTM using MNIST Dataset(Implement LSTM on Image Dataset).ipynb",
      "provenance": []
    },
    "kernelspec": {
      "name": "python3",
      "display_name": "Python 3"
    },
    "accelerator": "GPU"
  },
  "cells": [
    {
      "cell_type": "code",
      "metadata": {
        "id": "-0sw7VNPLWuC"
      },
      "source": [
        "from __future__ import print_function\n",
        "\n",
        "import keras\n",
        "from keras.datasets import mnist\n",
        "from keras.models import Model\n",
        "from keras.layers import Dense, TimeDistributed, LSTM, Input"
      ],
      "execution_count": 6,
      "outputs": []
    },
    {
      "cell_type": "code",
      "metadata": {
        "id": "GK1xXJMiLuwU"
      },
      "source": [
        "# Training Parameters\n",
        "\n",
        "batch_size = 32\n",
        "epochs = 5\n",
        "num_classes = 10"
      ],
      "execution_count": 2,
      "outputs": []
    },
    {
      "cell_type": "code",
      "metadata": {
        "id": "XXyiOeVuL5m3"
      },
      "source": [
        "# Embeding Dimensions\n",
        "rows_hidden = 128\n",
        "cols_hidden = 128"
      ],
      "execution_count": 3,
      "outputs": []
    },
    {
      "cell_type": "code",
      "metadata": {
        "colab": {
          "base_uri": "https://localhost:8080/"
        },
        "id": "enkc8yn2MCC0",
        "outputId": "35d0f545-467a-49b3-f22b-32cb90b97724"
      },
      "source": [
        "(x_train, y_train), (x_test, y_test) = mnist.load_data()"
      ],
      "execution_count": 4,
      "outputs": [
        {
          "output_type": "stream",
          "text": [
            "Downloading data from https://storage.googleapis.com/tensorflow/tf-keras-datasets/mnist.npz\n",
            "11493376/11490434 [==============================] - 0s 0us/step\n"
          ],
          "name": "stdout"
        }
      ]
    },
    {
      "cell_type": "markdown",
      "metadata": {
        "id": "RT0Ds1XpNrts"
      },
      "source": [
        "**Normalization**"
      ]
    },
    {
      "cell_type": "markdown",
      "metadata": {
        "id": "eEN_YMbOOfQe"
      },
      "source": [
        "# Reshapes data to 4D for Hierarchical RNN.\n",
        "\n",
        "# HRNNs can learn across multiple levels of temporal hierarchy over a complex sequence. Usually, the first recurrent layer of an HRNN encodes a sentence\n",
        "# (e.g. of word vectors) into a sentence vector. The second recurrent layer then encodes a sequence of such vectors (encoded by the first layer) into a \n",
        "# document vector. This document vector is considered to preserve both the word-level and sentence-level structure of the context."
      ]
    },
    {
      "cell_type": "code",
      "metadata": {
        "id": "eAlyEfDkMHjo"
      },
      "source": [
        "# Reshape Data to 4D for Hierarchical RNN\n",
        "# Because RNN works on Sequence Based so we have to convert images to 4D\n",
        "\n",
        "x_train = x_train.reshape(x_train.shape[0], 28, 28, 1)\n",
        "x_test = x_test.reshape(x_test.shape[0], 28, 28, 1)\n",
        "\n",
        "x_train = x_train.astype(\"float32\")\n",
        "x_test = x_test.astype(\"float32\")\n",
        "\n",
        "x_train /= 255\n",
        "x_test /= 255"
      ],
      "execution_count": 5,
      "outputs": []
    },
    {
      "cell_type": "markdown",
      "metadata": {
        "id": "gBQvrZVPNupC"
      },
      "source": [
        "**One Hot Encoding**"
      ]
    },
    {
      "cell_type": "code",
      "metadata": {
        "id": "f8vkVbyrNoit"
      },
      "source": [
        "y_train = keras.utils.to_categorical(y_train)\n",
        "y_test = keras.utils.to_categorical(y_test)\n",
        "\n",
        "# Creating input conditions for model\n",
        "\n",
        "row, col, dim = x_train.shape[1:]\n",
        "\n",
        "x = Input(shape=(row, col, dim))"
      ],
      "execution_count": 7,
      "outputs": []
    },
    {
      "cell_type": "markdown",
      "metadata": {
        "id": "yy5Z3jLvOiW_"
      },
      "source": [
        "# Encodes a row of pixels using TimeDistributed Wrapper.\n",
        "# TimeDistributed. This wrapper applies a layer to every temporal slice of an input. The input should be at least 3D, and the dimension of index one will be \n",
        "# considered to be the temporal dimension. Consider a batch of 32 samples, where each sample is a sequence of 10 vectors of 16 dimensions"
      ]
    },
    {
      "cell_type": "code",
      "metadata": {
        "id": "nunPH_TJOK4Y"
      },
      "source": [
        "encoded_rows = TimeDistributed(LSTM(rows_hidden))(x)\n",
        "\n",
        "# Encodes columns of encoded rows.\n",
        "encoded_columns = LSTM(cols_hidden)(encoded_rows)"
      ],
      "execution_count": 9,
      "outputs": []
    },
    {
      "cell_type": "code",
      "metadata": {
        "colab": {
          "base_uri": "https://localhost:8080/"
        },
        "id": "5pTg05vAQH6F",
        "outputId": "1d75e461-6b5b-423f-90c7-f753d2fc325b"
      },
      "source": [
        "encoded_rows.shape"
      ],
      "execution_count": 15,
      "outputs": [
        {
          "output_type": "execute_result",
          "data": {
            "text/plain": [
              "TensorShape([None, 28, 128])"
            ]
          },
          "metadata": {
            "tags": []
          },
          "execution_count": 15
        }
      ]
    },
    {
      "cell_type": "code",
      "metadata": {
        "id": "zqG4JP_VO1VJ"
      },
      "source": [
        "# Final predictions and model.\n",
        "prediction = Dense(num_classes, activation='softmax')(encoded_columns)\n",
        "model = Model(x, prediction)\n",
        "model.compile(loss='categorical_crossentropy',\n",
        "              optimizer='rmsprop',\n",
        "              metrics=['accuracy'])"
      ],
      "execution_count": 10,
      "outputs": []
    },
    {
      "cell_type": "code",
      "metadata": {
        "colab": {
          "base_uri": "https://localhost:8080/"
        },
        "id": "bmBpOwJ-O-pV",
        "outputId": "8dcc7a37-406c-4091-ceb2-c67d4c2daafc"
      },
      "source": [
        "# Training.\n",
        "model.fit(x_train, y_train,\n",
        "          batch_size=batch_size,\n",
        "          epochs=epochs,\n",
        "          validation_data=(x_test, y_test))"
      ],
      "execution_count": 12,
      "outputs": [
        {
          "output_type": "stream",
          "text": [
            "Epoch 1/5\n",
            "   1/1875 [..............................] - ETA: 49s - loss: 2.3077 - accuracy: 0.0312WARNING:tensorflow:Callbacks method `on_train_batch_end` is slow compared to the batch time (batch time: 0.0099s vs `on_train_batch_end` time: 0.0257s). Check your callbacks.\n",
            "1875/1875 [==============================] - 55s 29ms/step - loss: 0.4447 - accuracy: 0.8507 - val_loss: 0.2313 - val_accuracy: 0.9331\n",
            "Epoch 2/5\n",
            "1875/1875 [==============================] - 54s 29ms/step - loss: 0.1071 - accuracy: 0.9671 - val_loss: 0.0701 - val_accuracy: 0.9758\n",
            "Epoch 3/5\n",
            "1875/1875 [==============================] - 53s 29ms/step - loss: 0.0760 - accuracy: 0.9768 - val_loss: 0.0557 - val_accuracy: 0.9825\n",
            "Epoch 4/5\n",
            "1875/1875 [==============================] - 54s 29ms/step - loss: 0.0606 - accuracy: 0.9819 - val_loss: 0.0483 - val_accuracy: 0.9857\n",
            "Epoch 5/5\n",
            "1875/1875 [==============================] - 55s 29ms/step - loss: 0.0495 - accuracy: 0.9852 - val_loss: 0.0824 - val_accuracy: 0.9762\n"
          ],
          "name": "stdout"
        },
        {
          "output_type": "execute_result",
          "data": {
            "text/plain": [
              "<tensorflow.python.keras.callbacks.History at 0x7f5980e6e668>"
            ]
          },
          "metadata": {
            "tags": []
          },
          "execution_count": 12
        }
      ]
    },
    {
      "cell_type": "code",
      "metadata": {
        "colab": {
          "base_uri": "https://localhost:8080/"
        },
        "id": "aeYQw07QPA-i",
        "outputId": "7c1fd53e-2a31-45dd-c651-0312542c6bdc"
      },
      "source": [
        "# Evaluation.\n",
        "scores = model.evaluate(x_test, y_test, verbose=0)\n",
        "print('Test loss:', scores[0])\n",
        "print('Test accuracy:', scores[1])"
      ],
      "execution_count": 13,
      "outputs": [
        {
          "output_type": "stream",
          "text": [
            "Test loss: 0.08241895586252213\n",
            "Test accuracy: 0.9761999845504761\n"
          ],
          "name": "stdout"
        }
      ]
    },
    {
      "cell_type": "code",
      "metadata": {
        "colab": {
          "base_uri": "https://localhost:8080/"
        },
        "id": "ePCeROF9PHgu",
        "outputId": "3cccbdf6-4f33-4053-e5b9-3f8c32a4ff6d"
      },
      "source": [
        "print(5)"
      ],
      "execution_count": 17,
      "outputs": [
        {
          "output_type": "stream",
          "text": [
            "5\n"
          ],
          "name": "stdout"
        }
      ]
    },
    {
      "cell_type": "code",
      "metadata": {
        "id": "nW8pLCpnQhbN"
      },
      "source": [
        ""
      ],
      "execution_count": null,
      "outputs": []
    }
  ]
}